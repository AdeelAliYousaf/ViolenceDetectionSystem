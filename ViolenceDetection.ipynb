{
  "nbformat": 4,
  "nbformat_minor": 0,
  "metadata": {
    "colab": {
      "provenance": [],
      "authorship_tag": "ABX9TyMg7ufKJSRzUrrkUT+4mueL",
      "include_colab_link": true
    },
    "kernelspec": {
      "name": "python3",
      "display_name": "Python 3"
    },
    "language_info": {
      "name": "python"
    }
  },
  "cells": [
    {
      "cell_type": "markdown",
      "metadata": {
        "id": "view-in-github",
        "colab_type": "text"
      },
      "source": [
        "<a href=\"https://colab.research.google.com/github/AdeelAliYousaf/ViolenceDetectionSystem/blob/main/ViolenceDetection.ipynb\" target=\"_parent\"><img src=\"https://colab.research.google.com/assets/colab-badge.svg\" alt=\"Open In Colab\"/></a>"
      ]
    },
    {
      "cell_type": "code",
      "source": [
        "!pip uninstall tensorflow keras\n",
        "!pip install tensorflow==2.15 keras==2.15 skimage opencv-python\n",
        "!pip install --upgrade gradio"
      ],
      "metadata": {
        "id": "dHLPKz7J-h9K"
      },
      "execution_count": null,
      "outputs": []
    },
    {
      "cell_type": "code",
      "source": [
        "import cv2\n",
        "import numpy as np\n",
        "from skimage.transform import resize\n",
        "from keras.models import load_model\n",
        "import time\n",
        "import gradio as gr"
      ],
      "metadata": {
        "id": "ychkxGW0UyQK"
      },
      "execution_count": null,
      "outputs": []
    },
    {
      "cell_type": "code",
      "source": [
        "model_path = \"ViolenceDetectionModel.keras\"\n",
        "model = load_model(model_path, compile=False)\n",
        "print(\"[INFO] Pre-trained model loaded successfully.\")\n"
      ],
      "metadata": {
        "id": "Zc9iX7469fFe"
      },
      "execution_count": null,
      "outputs": []
    },
    {
      "cell_type": "code",
      "source": [
        "def load_video_frames(path, max_frames=30, target_size=(160, 160)):\n",
        "    cap = cv2.VideoCapture(path)\n",
        "    frames = []\n",
        "\n",
        "    while len(frames) < max_frames:\n",
        "        ret, frame = cap.read()\n",
        "        if not ret:\n",
        "            break\n",
        "        frame = cv2.cvtColor(frame, cv2.COLOR_BGR2RGB)\n",
        "        frame = resize(frame, target_size, preserve_range=True).astype(np.float32) / 255.0\n",
        "        frames.append(frame)\n",
        "\n",
        "    cap.release()\n",
        "\n",
        "    while len(frames) < max_frames:\n",
        "        frames.append(np.zeros((target_size[0], target_size[1], 3), dtype=np.float32))\n",
        "\n",
        "    return np.array(frames)"
      ],
      "metadata": {
        "id": "Z8as32sb9k36"
      },
      "execution_count": null,
      "outputs": []
    },
    {
      "cell_type": "code",
      "source": [
        "def predict_violence(video_path, threshold=0.65):\n",
        "    frames = load_video_frames(video_path)\n",
        "    frames = np.expand_dims(frames, axis=0)\n",
        "    start = time.time()\n",
        "    preds = model.predict(frames)[0]\n",
        "    end = time.time()\n",
        "\n",
        "    print(f\"[INFO] Prediction took {end - start:.2f}s\")\n",
        "    print(f\"[INFO] Predicted probabilities: {preds}\")\n",
        "\n",
        "    is_violent = preds[1] >= threshold\n",
        "    print(f\"[RESULT] Violence detected: {is_violent} (Confidence: {preds[1]:.4f})\")\n",
        "\n",
        "    return is_violent, preds[1]"
      ],
      "metadata": {
        "id": "hG59ER8w9rH0"
      },
      "execution_count": null,
      "outputs": []
    },
    {
      "cell_type": "code",
      "source": [
        "def gradio_predict(video_file):\n",
        "    is_fight, confidence = predict_violence(video_file)\n",
        "    result_text = f\"🔴 Violence Detected! (Confidence: {confidence:.2f})\" if is_fight else f\"🟢 No Violence Detected. (Confidence: {confidence:.2f})\"\n",
        "    return result_text\n",
        "\n",
        "with gr.Blocks() as demo:\n",
        "    gr.Markdown(\"## 🎥 Violence Detection in Video\")\n",
        "    gr.Markdown(\"Upload a video and click 'Detect Violence'. The model will analyze the clip and display the result.\")\n",
        "\n",
        "    video_input = gr.Video(label=\"Upload a short video\")\n",
        "    output_text = gr.Textbox(label=\"Prediction Result\", interactive=False)\n",
        "    predict_button = gr.Button(\"🚨 Detect Violence\")\n",
        "\n",
        "    predict_button.click(fn=gradio_predict, inputs=video_input, outputs=output_text)\n",
        "\n",
        "demo.launch(debug=False, share=True)"
      ],
      "metadata": {
        "id": "3iiJkrdZ90Iq"
      },
      "execution_count": null,
      "outputs": []
    }
  ]
}